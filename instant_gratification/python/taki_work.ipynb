{
 "cells": [
  {
   "cell_type": "code",
   "execution_count": 1,
   "metadata": {},
   "outputs": [
    {
     "name": "stdout",
     "output_type": "stream",
     "text": [
      "['test.csv', 'train.csv', 'sample_submission.csv']\n"
     ]
    }
   ],
   "source": [
    "# This Python 3 environment comes with many helpful analytics libraries installed\n",
    "# It is defined by the kaggle/python docker image: https://github.com/kaggle/docker-python\n",
    "# For example, here's several helpful packages to load in \n",
    "\n",
    "import numpy as np # linear algebra\n",
    "import pandas as pd # data processing, CSV file I/O (e.g. pd.read_csv)\n",
    "\n",
    "# Input data files are available in the \"../input/\" directory.\n",
    "# For example, running this (by clicking run or pressing Shift+Enter) will list the files in the input directory\n",
    "\n",
    "import os\n",
    "print(os.listdir(\"../input\"))\n",
    "\n",
    "# Any results you write to the current directory are saved as output."
   ]
  },
  {
   "cell_type": "code",
   "execution_count": 2,
   "metadata": {},
   "outputs": [],
   "source": [
    "train = pd.read_csv('../input/train.csv')\n",
    "test = pd.read_csv('../input/test.csv')"
   ]
  },
  {
   "cell_type": "code",
   "execution_count": 13,
   "metadata": {},
   "outputs": [],
   "source": [
    "from sklearn.svm import SVC, NuSVC\n",
    "from sklearn.feature_selection import VarianceThreshold\n",
    "from sklearn.model_selection import StratifiedKFold\n",
    "from sklearn.metrics import roc_auc_score\n",
    "from tqdm import tqdm_notebook as tqdm\n",
    "from sklearn.ensemble import RandomForestClassifier, GradientBoostingClassifier, ExtraTreesClassifier\n",
    "# from sklearn.ensemble import AdaBoostClassifier, VotingClassifier\n",
    "from sklearn.discriminant_analysis import LinearDiscriminantAnalysis, QuadraticDiscriminantAnalysis\n",
    "from sklearn.tree import DecisionTreeClassifier\n",
    "from sklearn.neighbors import KNeighborsClassifier\n",
    "from sklearn.linear_model import LogisticRegression\n",
    "from sklearn.neural_network import MLPClassifier\n",
    "from sklearn.naive_bayes import GaussianNB\n",
    "import xgboost as xgb\n",
    "from sklearn.model_selection import train_test_split, GridSearchCV, cross_val_score, StratifiedKFold, learning_curve, ShuffleSplit\n",
    "from sklearn.metrics import confusion_matrix, accuracy_score, classification_report\n",
    "from sklearn.preprocessing import LabelEncoder\n",
    "from sklearn.feature_selection import RFECV\n",
    "from sklearn import model_selection\n",
    "from sklearn.decomposition import PCA\n",
    "from sklearn.preprocessing import StandardScaler\n",
    "import random\n",
    "import optuna\n",
    "\n",
    "import matplotlib.pyplot as plt\n",
    "import seaborn as sns\n",
    "%matplotlib inline\n",
    "\n",
    "\n",
    "def evaluate(y_train, X_train, title = 'Cross Validation Scores'):\n",
    "    # Y_train = df[\"target\"]\n",
    "    # X_train = df.drop(labels = [\"target\"],axis = 1)\n",
    "    \n",
    "    cv = model_selection.ShuffleSplit(n_splits = 10, test_size = .3, train_size = .6, random_state = 46 )\n",
    "    \n",
    "    algorithms = [\n",
    "        \"SV\",\n",
    "        \"NuSVC\",\n",
    "        \"RandomForest\", \"GradientBoosting\", \"ExtraTrees\",\n",
    "        \"LinearDiscriminant\", \"QuadraticDIscriminant\",\n",
    "        \"DecisionTree\", \"KNeighbors\", \"LogisticRegression\", \"MLPClassifier\", \"GaussianNB\",\n",
    "        \"XGBClassifier\"\n",
    "    ]\n",
    "    \n",
    "    classifiers = [\n",
    "        SVC(),\n",
    "        NuSVC(probability=True, kernel='poly', degree=4, gamma='auto', random_state=4, nu=0.59, coef0=0.053),\n",
    "\n",
    "        RandomForestClassifier(),\n",
    "        GradientBoostingClassifier(),\n",
    "        ExtraTreesClassifier(),\n",
    "\n",
    "        LinearDiscriminantAnalysis(),\n",
    "        QuadraticDiscriminantAnalysis(),\n",
    "\n",
    "        DecisionTreeClassifier(),\n",
    "        KNeighborsClassifier(),\n",
    "        LogisticRegression(),\n",
    "        MLPClassifier(),\n",
    "        GaussianNB(),\n",
    "        \n",
    "        xgb.XGBClassifier(),\n",
    "    ]\n",
    "    classifiers = [\n",
    "        KNeighborsClassifier()\n",
    "    ]\n",
    "    \n",
    "    cv_results = []\n",
    "    for classifier in tqdm(classifiers):\n",
    "        cv_results.append(cross_val_score(classifier, X_train, y = y_train, scoring = \"accuracy\", cv = cv, n_jobs=4))\n",
    "\n",
    "    cv_means = []\n",
    "    cv_std = []\n",
    "    for cv_result in cv_results:\n",
    "        cv_means.append(cv_result.mean())\n",
    "        cv_std.append(cv_result.std())\n",
    "\n",
    "    cv_res = pd.DataFrame({\n",
    "        \"CrossValMeans\":cv_means,\n",
    "        \"CrossValerrors\": cv_std,\n",
    "        \"Algorithm\":algorithms})\n",
    "\n",
    "    plt.figure()\n",
    "    g = sns.barplot(\"CrossValMeans\",\"Algorithm\",data = cv_res, palette=\"Set3\",orient = \"h\",**{'xerr':cv_std})\n",
    "    g.set_xlabel(\"Mean Accuracy\")\n",
    "    g = g.set_title(title)\n",
    "\n",
    "    r = list(zip(algorithms, cv_means))\n",
    "    r.sort(key=lambda x: x[1])\n",
    "    max_result = r[-1]\n",
    "    print(\"Max Accuracy: \", max_result)"
   ]
  },
  {
   "cell_type": "code",
   "execution_count": 4,
   "metadata": {},
   "outputs": [],
   "source": [
    "def preprocess_features(df_):\n",
    "    df = df_.copy()\n",
    "\n",
    "    # PCA\n",
    "    # df = PCA(n_components=40, random_state=4).fit_transform(df)\n",
    "    df = PCA(svd_solver='full',n_components='mle').fit_transform(df)\n",
    "    df = StandardScaler().fit_transform(df)\n",
    "\n",
    "    # variance\n",
    "    # df = VarianceThreshold(threshold=1.5).fit_transform(df)\n",
    "    # df = StandardScaler().fit_transform(df)\n",
    "\n",
    "    # TODO: LGB tokade feature importance\n",
    "\n",
    "    return df"
   ]
  },
  {
   "cell_type": "code",
   "execution_count": 6,
   "metadata": {},
   "outputs": [],
   "source": [
    "feature_cols = [c for c in train.columns if c not in ['id', 'wheezy-copper-turtle-magic', 'target']]\n",
    "\n",
    "def target_xy(weezy):\n",
    "    train2 = train[train['wheezy-copper-turtle-magic']==weezy]\n",
    "    train2.reset_index(drop=True,inplace=True)\n",
    "\n",
    "    y_train = train2['target']\n",
    "    X_train = train2[feature_cols]\n",
    "    X_train = preprocess_features(X_train)\n",
    "    return [X_train, y_train]"
   ]
  },
  {
   "cell_type": "code",
   "execution_count": 9,
   "metadata": {},
   "outputs": [],
   "source": [
    "X_train, y_train = target_xy(0)"
   ]
  },
  {
   "cell_type": "code",
   "execution_count": 20,
   "metadata": {},
   "outputs": [],
   "source": [
    "def objective(trial):\n",
    "    n_neighbors=trial.suggest_int('n_neighbors', 2, 8)\n",
    "    weights='uniform'\n",
    "    algorithm='auto'\n",
    "    leaf_size=trial.suggest_int('leaf_size', 25, 35)\n",
    "    p=trial.suggest_int('p', 1, 3)\n",
    "    metric='minkowski'\n",
    "    metric_params=None\n",
    "    n_jobs=1\n",
    "    \n",
    "    cv = model_selection.ShuffleSplit(n_splits = 10, test_size = .3, train_size = .6, random_state = 46 )\n",
    "    \n",
    "    classifier = KNeighborsClassifier(\n",
    "        n_neighbors=n_neighbors, weights=weights, algorithm=algorithm,\n",
    "        leaf_size=leaf_size, p=p, metric=metric)\n",
    "    return cross_val_score(classifier, X_train, y = y_train, scoring = \"accuracy\", cv = cv, n_jobs=4).mean()"
   ]
  },
  {
   "cell_type": "code",
   "execution_count": 21,
   "metadata": {},
   "outputs": [
    {
     "name": "stderr",
     "output_type": "stream",
     "text": [
      "[I 2019-06-03 23:34:39,040] Finished trial#0 resulted in value: 0.7850931677018633. Current best value is 0.7850931677018633 with parameters: {'n_neighbors': 8, 'leaf_size': 26, 'p': 1}.\n",
      "[I 2019-06-03 23:34:39,251] Finished trial#1 resulted in value: 0.7583850931677019. Current best value is 0.7583850931677019 with parameters: {'n_neighbors': 4, 'leaf_size': 26, 'p': 1}.\n",
      "[I 2019-06-03 23:34:39,686] Finished trial#2 resulted in value: 0.8186335403726709. Current best value is 0.7583850931677019 with parameters: {'n_neighbors': 4, 'leaf_size': 26, 'p': 1}.\n",
      "[I 2019-06-03 23:34:39,892] Finished trial#3 resulted in value: 0.768944099378882. Current best value is 0.7583850931677019 with parameters: {'n_neighbors': 4, 'leaf_size': 26, 'p': 1}.\n",
      "[I 2019-06-03 23:34:40,072] Finished trial#4 resulted in value: 0.768944099378882. Current best value is 0.7583850931677019 with parameters: {'n_neighbors': 4, 'leaf_size': 26, 'p': 1}.\n",
      "[I 2019-06-03 23:34:40,503] Finished trial#5 resulted in value: 0.7987577639751552. Current best value is 0.7583850931677019 with parameters: {'n_neighbors': 4, 'leaf_size': 26, 'p': 1}.\n",
      "[I 2019-06-03 23:34:40,934] Finished trial#6 resulted in value: 0.7838509316770186. Current best value is 0.7583850931677019 with parameters: {'n_neighbors': 4, 'leaf_size': 26, 'p': 1}.\n",
      "[I 2019-06-03 23:34:41,397] Finished trial#7 resulted in value: 0.75527950310559. Current best value is 0.75527950310559 with parameters: {'n_neighbors': 2, 'leaf_size': 31, 'p': 3}.\n",
      "[I 2019-06-03 23:34:41,576] Finished trial#8 resulted in value: 0.8136645962732919. Current best value is 0.75527950310559 with parameters: {'n_neighbors': 2, 'leaf_size': 31, 'p': 3}.\n",
      "[I 2019-06-03 23:34:42,015] Finished trial#9 resulted in value: 0.7838509316770186. Current best value is 0.75527950310559 with parameters: {'n_neighbors': 2, 'leaf_size': 31, 'p': 3}.\n",
      "[I 2019-06-03 23:34:42,218] Finished trial#10 resulted in value: 0.8006211180124223. Current best value is 0.75527950310559 with parameters: {'n_neighbors': 2, 'leaf_size': 31, 'p': 3}.\n",
      "[I 2019-06-03 23:34:42,399] Finished trial#11 resulted in value: 0.7453416149068323. Current best value is 0.7453416149068323 with parameters: {'n_neighbors': 2, 'leaf_size': 35, 'p': 2}.\n",
      "[I 2019-06-03 23:34:42,583] Finished trial#12 resulted in value: 0.8006211180124223. Current best value is 0.7453416149068323 with parameters: {'n_neighbors': 2, 'leaf_size': 35, 'p': 2}.\n",
      "[I 2019-06-03 23:34:42,762] Finished trial#13 resulted in value: 0.7453416149068323. Current best value is 0.7453416149068323 with parameters: {'n_neighbors': 2, 'leaf_size': 35, 'p': 2}.\n",
      "[I 2019-06-03 23:34:42,979] Finished trial#14 resulted in value: 0.8006211180124223. Current best value is 0.7453416149068323 with parameters: {'n_neighbors': 2, 'leaf_size': 35, 'p': 2}.\n",
      "[I 2019-06-03 23:34:43,146] Finished trial#15 resulted in value: 0.8124223602484472. Current best value is 0.7453416149068323 with parameters: {'n_neighbors': 2, 'leaf_size': 35, 'p': 2}.\n",
      "[I 2019-06-03 23:34:43,348] Finished trial#16 resulted in value: 0.7229813664596273. Current best value is 0.7229813664596273 with parameters: {'n_neighbors': 2, 'leaf_size': 33, 'p': 1}.\n",
      "[I 2019-06-03 23:34:43,525] Finished trial#17 resulted in value: 0.7229813664596273. Current best value is 0.7229813664596273 with parameters: {'n_neighbors': 2, 'leaf_size': 33, 'p': 1}.\n",
      "[I 2019-06-03 23:34:43,702] Finished trial#18 resulted in value: 0.7229813664596273. Current best value is 0.7229813664596273 with parameters: {'n_neighbors': 2, 'leaf_size': 33, 'p': 1}.\n",
      "[I 2019-06-03 23:34:43,874] Finished trial#19 resulted in value: 0.768944099378882. Current best value is 0.7229813664596273 with parameters: {'n_neighbors': 2, 'leaf_size': 33, 'p': 1}.\n",
      "[I 2019-06-03 23:34:44,055] Finished trial#20 resulted in value: 0.7913043478260869. Current best value is 0.7229813664596273 with parameters: {'n_neighbors': 2, 'leaf_size': 33, 'p': 1}.\n",
      "[I 2019-06-03 23:34:44,228] Finished trial#21 resulted in value: 0.7229813664596273. Current best value is 0.7229813664596273 with parameters: {'n_neighbors': 2, 'leaf_size': 33, 'p': 1}.\n",
      "[I 2019-06-03 23:34:44,439] Finished trial#22 resulted in value: 0.768944099378882. Current best value is 0.7229813664596273 with parameters: {'n_neighbors': 2, 'leaf_size': 33, 'p': 1}.\n",
      "[I 2019-06-03 23:34:44,619] Finished trial#23 resulted in value: 0.7583850931677019. Current best value is 0.7229813664596273 with parameters: {'n_neighbors': 2, 'leaf_size': 33, 'p': 1}.\n",
      "[I 2019-06-03 23:34:44,804] Finished trial#24 resulted in value: 0.786335403726708. Current best value is 0.7229813664596273 with parameters: {'n_neighbors': 2, 'leaf_size': 33, 'p': 1}.\n",
      "[I 2019-06-03 23:34:44,976] Finished trial#25 resulted in value: 0.7229813664596273. Current best value is 0.7229813664596273 with parameters: {'n_neighbors': 2, 'leaf_size': 33, 'p': 1}.\n",
      "[I 2019-06-03 23:34:45,272] Finished trial#26 resulted in value: 0.7962732919254658. Current best value is 0.7229813664596273 with parameters: {'n_neighbors': 2, 'leaf_size': 33, 'p': 1}.\n",
      "[I 2019-06-03 23:34:45,496] Finished trial#27 resulted in value: 0.7583850931677019. Current best value is 0.7229813664596273 with parameters: {'n_neighbors': 2, 'leaf_size': 33, 'p': 1}.\n",
      "[I 2019-06-03 23:34:45,684] Finished trial#28 resulted in value: 0.7913043478260869. Current best value is 0.7229813664596273 with parameters: {'n_neighbors': 2, 'leaf_size': 33, 'p': 1}.\n",
      "[I 2019-06-03 23:34:45,875] Finished trial#29 resulted in value: 0.786335403726708. Current best value is 0.7229813664596273 with parameters: {'n_neighbors': 2, 'leaf_size': 33, 'p': 1}.\n",
      "[I 2019-06-03 23:34:46,070] Finished trial#30 resulted in value: 0.7453416149068323. Current best value is 0.7229813664596273 with parameters: {'n_neighbors': 2, 'leaf_size': 33, 'p': 1}.\n",
      "[I 2019-06-03 23:34:46,262] Finished trial#31 resulted in value: 0.7583850931677019. Current best value is 0.7229813664596273 with parameters: {'n_neighbors': 2, 'leaf_size': 33, 'p': 1}.\n",
      "[I 2019-06-03 23:34:46,458] Finished trial#32 resulted in value: 0.768944099378882. Current best value is 0.7229813664596273 with parameters: {'n_neighbors': 2, 'leaf_size': 33, 'p': 1}.\n",
      "[I 2019-06-03 23:34:46,677] Finished trial#33 resulted in value: 0.7229813664596273. Current best value is 0.7229813664596273 with parameters: {'n_neighbors': 2, 'leaf_size': 33, 'p': 1}.\n",
      "[I 2019-06-03 23:34:46,871] Finished trial#34 resulted in value: 0.7962732919254658. Current best value is 0.7229813664596273 with parameters: {'n_neighbors': 2, 'leaf_size': 33, 'p': 1}.\n",
      "[I 2019-06-03 23:34:47,066] Finished trial#35 resulted in value: 0.7583850931677019. Current best value is 0.7229813664596273 with parameters: {'n_neighbors': 2, 'leaf_size': 33, 'p': 1}.\n",
      "[I 2019-06-03 23:34:47,263] Finished trial#36 resulted in value: 0.768944099378882. Current best value is 0.7229813664596273 with parameters: {'n_neighbors': 2, 'leaf_size': 33, 'p': 1}.\n",
      "[I 2019-06-03 23:34:47,715] Finished trial#37 resulted in value: 0.8217391304347826. Current best value is 0.7229813664596273 with parameters: {'n_neighbors': 2, 'leaf_size': 33, 'p': 1}.\n",
      "[I 2019-06-03 23:34:47,952] Finished trial#38 resulted in value: 0.8136645962732919. Current best value is 0.7229813664596273 with parameters: {'n_neighbors': 2, 'leaf_size': 33, 'p': 1}.\n",
      "[I 2019-06-03 23:34:48,218] Finished trial#39 resulted in value: 0.7913043478260869. Current best value is 0.7229813664596273 with parameters: {'n_neighbors': 2, 'leaf_size': 33, 'p': 1}.\n",
      "[I 2019-06-03 23:34:48,980] Finished trial#40 resulted in value: 0.7987577639751552. Current best value is 0.7229813664596273 with parameters: {'n_neighbors': 2, 'leaf_size': 33, 'p': 1}.\n",
      "[I 2019-06-03 23:34:49,291] Finished trial#41 resulted in value: 0.7453416149068323. Current best value is 0.7229813664596273 with parameters: {'n_neighbors': 2, 'leaf_size': 33, 'p': 1}.\n",
      "[I 2019-06-03 23:34:49,567] Finished trial#42 resulted in value: 0.7583850931677019. Current best value is 0.7229813664596273 with parameters: {'n_neighbors': 2, 'leaf_size': 33, 'p': 1}.\n"
     ]
    },
    {
     "name": "stderr",
     "output_type": "stream",
     "text": [
      "[I 2019-06-03 23:34:49,746] Finished trial#43 resulted in value: 0.7453416149068323. Current best value is 0.7229813664596273 with parameters: {'n_neighbors': 2, 'leaf_size': 33, 'p': 1}.\n",
      "[I 2019-06-03 23:34:50,021] Finished trial#44 resulted in value: 0.7751552795031056. Current best value is 0.7229813664596273 with parameters: {'n_neighbors': 2, 'leaf_size': 33, 'p': 1}.\n",
      "[I 2019-06-03 23:34:50,507] Finished trial#45 resulted in value: 0.7838509316770186. Current best value is 0.7229813664596273 with parameters: {'n_neighbors': 2, 'leaf_size': 33, 'p': 1}.\n",
      "[I 2019-06-03 23:34:50,681] Finished trial#46 resulted in value: 0.7962732919254658. Current best value is 0.7229813664596273 with parameters: {'n_neighbors': 2, 'leaf_size': 33, 'p': 1}.\n",
      "[I 2019-06-03 23:34:50,870] Finished trial#47 resulted in value: 0.7453416149068323. Current best value is 0.7229813664596273 with parameters: {'n_neighbors': 2, 'leaf_size': 33, 'p': 1}.\n",
      "[I 2019-06-03 23:34:51,091] Finished trial#48 resulted in value: 0.7913043478260869. Current best value is 0.7229813664596273 with parameters: {'n_neighbors': 2, 'leaf_size': 33, 'p': 1}.\n",
      "[I 2019-06-03 23:34:51,266] Finished trial#49 resulted in value: 0.7751552795031056. Current best value is 0.7229813664596273 with parameters: {'n_neighbors': 2, 'leaf_size': 33, 'p': 1}.\n",
      "[I 2019-06-03 23:34:51,730] Finished trial#50 resulted in value: 0.7987577639751552. Current best value is 0.7229813664596273 with parameters: {'n_neighbors': 2, 'leaf_size': 33, 'p': 1}.\n",
      "[I 2019-06-03 23:34:51,925] Finished trial#51 resulted in value: 0.7453416149068323. Current best value is 0.7229813664596273 with parameters: {'n_neighbors': 2, 'leaf_size': 33, 'p': 1}.\n",
      "[I 2019-06-03 23:34:52,109] Finished trial#52 resulted in value: 0.768944099378882. Current best value is 0.7229813664596273 with parameters: {'n_neighbors': 2, 'leaf_size': 33, 'p': 1}.\n",
      "[I 2019-06-03 23:34:52,290] Finished trial#53 resulted in value: 0.7583850931677019. Current best value is 0.7229813664596273 with parameters: {'n_neighbors': 2, 'leaf_size': 33, 'p': 1}.\n",
      "[I 2019-06-03 23:34:52,477] Finished trial#54 resulted in value: 0.7453416149068323. Current best value is 0.7229813664596273 with parameters: {'n_neighbors': 2, 'leaf_size': 33, 'p': 1}.\n",
      "[I 2019-06-03 23:34:52,672] Finished trial#55 resulted in value: 0.7913043478260869. Current best value is 0.7229813664596273 with parameters: {'n_neighbors': 2, 'leaf_size': 33, 'p': 1}.\n",
      "[I 2019-06-03 23:34:52,894] Finished trial#56 resulted in value: 0.7850931677018633. Current best value is 0.7229813664596273 with parameters: {'n_neighbors': 2, 'leaf_size': 33, 'p': 1}.\n",
      "[I 2019-06-03 23:34:53,072] Finished trial#57 resulted in value: 0.8167701863354038. Current best value is 0.7229813664596273 with parameters: {'n_neighbors': 2, 'leaf_size': 33, 'p': 1}.\n",
      "[I 2019-06-03 23:34:53,257] Finished trial#58 resulted in value: 0.7751552795031056. Current best value is 0.7229813664596273 with parameters: {'n_neighbors': 2, 'leaf_size': 33, 'p': 1}.\n",
      "[I 2019-06-03 23:34:53,424] Finished trial#59 resulted in value: 0.7782608695652173. Current best value is 0.7229813664596273 with parameters: {'n_neighbors': 2, 'leaf_size': 33, 'p': 1}.\n",
      "[I 2019-06-03 23:34:53,597] Finished trial#60 resulted in value: 0.7229813664596273. Current best value is 0.7229813664596273 with parameters: {'n_neighbors': 2, 'leaf_size': 33, 'p': 1}.\n",
      "[I 2019-06-03 23:34:53,784] Finished trial#61 resulted in value: 0.768944099378882. Current best value is 0.7229813664596273 with parameters: {'n_neighbors': 2, 'leaf_size': 33, 'p': 1}.\n",
      "[I 2019-06-03 23:34:53,972] Finished trial#62 resulted in value: 0.7453416149068323. Current best value is 0.7229813664596273 with parameters: {'n_neighbors': 2, 'leaf_size': 33, 'p': 1}.\n",
      "[I 2019-06-03 23:34:54,199] Finished trial#63 resulted in value: 0.7913043478260869. Current best value is 0.7229813664596273 with parameters: {'n_neighbors': 2, 'leaf_size': 33, 'p': 1}.\n",
      "[I 2019-06-03 23:34:54,824] Finished trial#64 resulted in value: 0.7987577639751552. Current best value is 0.7229813664596273 with parameters: {'n_neighbors': 2, 'leaf_size': 33, 'p': 1}.\n",
      "[I 2019-06-03 23:34:55,178] Finished trial#65 resulted in value: 0.7229813664596273. Current best value is 0.7229813664596273 with parameters: {'n_neighbors': 2, 'leaf_size': 33, 'p': 1}.\n",
      "[I 2019-06-03 23:34:55,356] Finished trial#66 resulted in value: 0.7229813664596273. Current best value is 0.7229813664596273 with parameters: {'n_neighbors': 2, 'leaf_size': 33, 'p': 1}.\n",
      "[I 2019-06-03 23:34:55,551] Finished trial#67 resulted in value: 0.7229813664596273. Current best value is 0.7229813664596273 with parameters: {'n_neighbors': 2, 'leaf_size': 33, 'p': 1}.\n",
      "[I 2019-06-03 23:34:55,776] Finished trial#68 resulted in value: 0.7229813664596273. Current best value is 0.7229813664596273 with parameters: {'n_neighbors': 2, 'leaf_size': 33, 'p': 1}.\n",
      "[I 2019-06-03 23:34:55,981] Finished trial#69 resulted in value: 0.768944099378882. Current best value is 0.7229813664596273 with parameters: {'n_neighbors': 2, 'leaf_size': 33, 'p': 1}.\n",
      "[I 2019-06-03 23:34:56,208] Finished trial#70 resulted in value: 0.7229813664596273. Current best value is 0.7229813664596273 with parameters: {'n_neighbors': 2, 'leaf_size': 33, 'p': 1}.\n",
      "[I 2019-06-03 23:34:56,493] Finished trial#71 resulted in value: 0.768944099378882. Current best value is 0.7229813664596273 with parameters: {'n_neighbors': 2, 'leaf_size': 33, 'p': 1}.\n",
      "[I 2019-06-03 23:34:56,814] Finished trial#72 resulted in value: 0.7583850931677019. Current best value is 0.7229813664596273 with parameters: {'n_neighbors': 2, 'leaf_size': 33, 'p': 1}.\n",
      "[I 2019-06-03 23:34:57,075] Finished trial#73 resulted in value: 0.768944099378882. Current best value is 0.7229813664596273 with parameters: {'n_neighbors': 2, 'leaf_size': 33, 'p': 1}.\n",
      "[I 2019-06-03 23:34:57,303] Finished trial#74 resulted in value: 0.7453416149068323. Current best value is 0.7229813664596273 with parameters: {'n_neighbors': 2, 'leaf_size': 33, 'p': 1}.\n",
      "[I 2019-06-03 23:34:57,520] Finished trial#75 resulted in value: 0.768944099378882. Current best value is 0.7229813664596273 with parameters: {'n_neighbors': 2, 'leaf_size': 33, 'p': 1}.\n",
      "[I 2019-06-03 23:34:57,795] Finished trial#76 resulted in value: 0.7229813664596273. Current best value is 0.7229813664596273 with parameters: {'n_neighbors': 2, 'leaf_size': 33, 'p': 1}.\n",
      "[I 2019-06-03 23:34:58,000] Finished trial#77 resulted in value: 0.7453416149068323. Current best value is 0.7229813664596273 with parameters: {'n_neighbors': 2, 'leaf_size': 33, 'p': 1}.\n",
      "[I 2019-06-03 23:34:58,186] Finished trial#78 resulted in value: 0.7583850931677019. Current best value is 0.7229813664596273 with parameters: {'n_neighbors': 2, 'leaf_size': 33, 'p': 1}.\n",
      "[I 2019-06-03 23:34:58,390] Finished trial#79 resulted in value: 0.768944099378882. Current best value is 0.7229813664596273 with parameters: {'n_neighbors': 2, 'leaf_size': 33, 'p': 1}.\n",
      "[I 2019-06-03 23:34:58,583] Finished trial#80 resulted in value: 0.7453416149068323. Current best value is 0.7229813664596273 with parameters: {'n_neighbors': 2, 'leaf_size': 33, 'p': 1}.\n",
      "[I 2019-06-03 23:34:58,778] Finished trial#81 resulted in value: 0.7583850931677019. Current best value is 0.7229813664596273 with parameters: {'n_neighbors': 2, 'leaf_size': 33, 'p': 1}.\n",
      "[I 2019-06-03 23:34:58,988] Finished trial#82 resulted in value: 0.768944099378882. Current best value is 0.7229813664596273 with parameters: {'n_neighbors': 2, 'leaf_size': 33, 'p': 1}.\n",
      "[I 2019-06-03 23:34:59,192] Finished trial#83 resulted in value: 0.8006211180124223. Current best value is 0.7229813664596273 with parameters: {'n_neighbors': 2, 'leaf_size': 33, 'p': 1}.\n",
      "[I 2019-06-03 23:34:59,503] Finished trial#84 resulted in value: 0.7229813664596273. Current best value is 0.7229813664596273 with parameters: {'n_neighbors': 2, 'leaf_size': 33, 'p': 1}.\n",
      "[I 2019-06-03 23:34:59,727] Finished trial#85 resulted in value: 0.7782608695652173. Current best value is 0.7229813664596273 with parameters: {'n_neighbors': 2, 'leaf_size': 33, 'p': 1}.\n"
     ]
    },
    {
     "name": "stderr",
     "output_type": "stream",
     "text": [
      "[I 2019-06-03 23:35:00,319] Finished trial#86 resulted in value: 0.768944099378882. Current best value is 0.7229813664596273 with parameters: {'n_neighbors': 2, 'leaf_size': 33, 'p': 1}.\n",
      "[I 2019-06-03 23:35:00,509] Finished trial#87 resulted in value: 0.768944099378882. Current best value is 0.7229813664596273 with parameters: {'n_neighbors': 2, 'leaf_size': 33, 'p': 1}.\n",
      "[I 2019-06-03 23:35:00,704] Finished trial#88 resulted in value: 0.7229813664596273. Current best value is 0.7229813664596273 with parameters: {'n_neighbors': 2, 'leaf_size': 33, 'p': 1}.\n",
      "[I 2019-06-03 23:35:00,895] Finished trial#89 resulted in value: 0.7453416149068323. Current best value is 0.7229813664596273 with parameters: {'n_neighbors': 2, 'leaf_size': 33, 'p': 1}.\n",
      "[I 2019-06-03 23:35:01,486] Finished trial#90 resulted in value: 0.8124223602484474. Current best value is 0.7229813664596273 with parameters: {'n_neighbors': 2, 'leaf_size': 33, 'p': 1}.\n",
      "[I 2019-06-03 23:35:01,691] Finished trial#91 resulted in value: 0.7583850931677019. Current best value is 0.7229813664596273 with parameters: {'n_neighbors': 2, 'leaf_size': 33, 'p': 1}.\n",
      "[I 2019-06-03 23:35:01,931] Finished trial#92 resulted in value: 0.786335403726708. Current best value is 0.7229813664596273 with parameters: {'n_neighbors': 2, 'leaf_size': 33, 'p': 1}.\n",
      "[I 2019-06-03 23:35:02,241] Finished trial#93 resulted in value: 0.8136645962732919. Current best value is 0.7229813664596273 with parameters: {'n_neighbors': 2, 'leaf_size': 33, 'p': 1}.\n",
      "[I 2019-06-03 23:35:02,508] Finished trial#94 resulted in value: 0.7229813664596273. Current best value is 0.7229813664596273 with parameters: {'n_neighbors': 2, 'leaf_size': 33, 'p': 1}.\n",
      "[I 2019-06-03 23:35:02,762] Finished trial#95 resulted in value: 0.768944099378882. Current best value is 0.7229813664596273 with parameters: {'n_neighbors': 2, 'leaf_size': 33, 'p': 1}.\n",
      "[I 2019-06-03 23:35:03,089] Finished trial#96 resulted in value: 0.7962732919254658. Current best value is 0.7229813664596273 with parameters: {'n_neighbors': 2, 'leaf_size': 33, 'p': 1}.\n",
      "[I 2019-06-03 23:35:03,343] Finished trial#97 resulted in value: 0.7229813664596273. Current best value is 0.7229813664596273 with parameters: {'n_neighbors': 2, 'leaf_size': 33, 'p': 1}.\n",
      "[I 2019-06-03 23:35:03,607] Finished trial#98 resulted in value: 0.7229813664596273. Current best value is 0.7229813664596273 with parameters: {'n_neighbors': 2, 'leaf_size': 33, 'p': 1}.\n",
      "[I 2019-06-03 23:35:03,814] Finished trial#99 resulted in value: 0.7583850931677019. Current best value is 0.7229813664596273 with parameters: {'n_neighbors': 2, 'leaf_size': 33, 'p': 1}.\n"
     ]
    }
   ],
   "source": [
    "study = optuna.create_study()\n",
    "study.optimize(objective, n_trials=100)"
   ]
  },
  {
   "cell_type": "code",
   "execution_count": 22,
   "metadata": {},
   "outputs": [
    {
     "data": {
      "text/plain": [
       "{'leaf_size': 33, 'n_neighbors': 2, 'p': 1}"
      ]
     },
     "execution_count": 22,
     "metadata": {},
     "output_type": "execute_result"
    }
   ],
   "source": [
    "study.best_params"
   ]
  },
  {
   "cell_type": "code",
   "execution_count": 23,
   "metadata": {},
   "outputs": [
    {
     "data": {
      "text/plain": [
       "0.7229813664596273"
      ]
     },
     "execution_count": 23,
     "metadata": {},
     "output_type": "execute_result"
    }
   ],
   "source": [
    "study.best_value"
   ]
  },
  {
   "cell_type": "code",
   "execution_count": 25,
   "metadata": {},
   "outputs": [],
   "source": [
    "# 全試行の確認\n",
    "# study.trials"
   ]
  },
  {
   "cell_type": "code",
   "execution_count": 31,
   "metadata": {},
   "outputs": [
    {
     "data": {
      "application/vnd.jupyter.widget-view+json": {
       "model_id": "4c30b5a8d0e44e6c9ae14dbcf8181f52",
       "version_major": 2,
       "version_minor": 0
      },
      "text/plain": [
       "HBox(children=(IntProgress(value=0, max=512), HTML(value='')))"
      ]
     },
     "metadata": {},
     "output_type": "display_data"
    },
    {
     "name": "stdout",
     "output_type": "stream",
     "text": [
      "\n",
      "CV score = 0.84731\n",
      "CPU times: user 3min 33s, sys: 2.16 s, total: 3min 35s\n",
      "Wall time: 3min 50s\n"
     ]
    }
   ],
   "source": [
    "%%time\n",
    "# INITIALIZE VARIABLES\n",
    "oof = np.zeros(len(train))\n",
    "preds = np.zeros(len(test))\n",
    "cols = [c for c in train.columns if c not in ['id', 'target', 'wheezy-copper-turtle-magic']]\n",
    "\n",
    "# BUILD 512 SEPARATE NON-LINEAR MODELS\n",
    "for i in tqdm(range(512)):\n",
    "    \n",
    "    # EXTRACT SUBSET OF DATASET WHERE WHEEZY-MAGIC EQUALS I\n",
    "    train2 = train[train['wheezy-copper-turtle-magic']==i]\n",
    "    test2 = test[test['wheezy-copper-turtle-magic']==i]\n",
    "    idx1 = train2.index; idx2 = test2.index\n",
    "    train2.reset_index(drop=True,inplace=True)\n",
    "    \n",
    "    # FEATURE SELECTION (USE APPROX 40 OF 255 FEATURES)\n",
    "    sel = VarianceThreshold(threshold=1.5).fit(train2[cols])\n",
    "    train3 = sel.transform(train2[cols])\n",
    "    test3 = sel.transform(test2[cols])\n",
    "        \n",
    "    # STRATIFIED K FOLD (Using splits=25 scores 0.002 better but is slower)\n",
    "    skf = StratifiedKFold(n_splits=11, random_state=42)\n",
    "    for train_index, test_index in skf.split(train3, train2['target']):\n",
    "        \n",
    "        # MODEL WITH SUPPORT VECTOR MACHINE\n",
    "        clf = KNeighborsClassifier(\n",
    "            n_neighbors=study.best_params[\"n_neighbors\"], leaf_size=study.best_params[\"leaf_size\"], p=study.best_params[\"p\"])\n",
    "        clf.fit(train3[train_index,:],train2.loc[train_index]['target'])\n",
    "        oof[idx1[test_index]] = clf.predict_proba(train3[test_index,:])[:,1]\n",
    "        preds[idx2] += clf.predict_proba(test3)[:,1] / skf.n_splits\n",
    "        \n",
    "    #if i%10==0: print(i)\n",
    "    \n",
    "auc = roc_auc_score(train['target'],oof)\n",
    "print('CV score =',round(auc,5))"
   ]
  },
  {
   "cell_type": "code",
   "execution_count": 32,
   "metadata": {},
   "outputs": [],
   "source": [
    "sub = pd.read_csv('../input/sample_submission.csv')\n",
    "sub['target'] = preds\n",
    "sub.to_csv('submission.csv',index=False)"
   ]
  },
  {
   "cell_type": "code",
   "execution_count": null,
   "metadata": {},
   "outputs": [],
   "source": []
  }
 ],
 "metadata": {
  "kernelspec": {
   "display_name": "Python 3",
   "language": "python",
   "name": "python3"
  },
  "language_info": {
   "codemirror_mode": {
    "name": "ipython",
    "version": 3
   },
   "file_extension": ".py",
   "mimetype": "text/x-python",
   "name": "python",
   "nbconvert_exporter": "python",
   "pygments_lexer": "ipython3",
   "version": "3.6.5"
  }
 },
 "nbformat": 4,
 "nbformat_minor": 2
}
